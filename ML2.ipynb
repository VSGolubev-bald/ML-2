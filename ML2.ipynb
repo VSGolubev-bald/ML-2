{
  "nbformat": 4,
  "nbformat_minor": 5,
  "metadata": {
    "kernelspec": {
      "display_name": "Python 3 (ipykernel)",
      "language": "python",
      "name": "python3"
    },
    "language_info": {
      "codemirror_mode": {
        "name": "ipython",
        "version": 3
      },
      "file_extension": ".py",
      "mimetype": "text/x-python",
      "name": "python",
      "nbconvert_exporter": "python",
      "pygments_lexer": "ipython3",
      "version": "3.9.7"
    },
    "colab": {
      "name": "ML2.ipynb",
      "provenance": [],
      "collapsed_sections": []
    }
  },
  "cells": [
    {
      "cell_type": "markdown",
      "metadata": {
        "id": "e47ae361"
      },
      "source": [
        "# Лабораторная работа №2\n",
        "\n",
        "Подключим библиотеки:"
      ],
      "id": "e47ae361"
    },
    {
      "cell_type": "code",
      "metadata": {
        "id": "bae4005e"
      },
      "source": [
        "import pandas as pd\n",
        "\n",
        "import numpy as np\n",
        "from numpy import log, dot, e\n",
        "from numpy.random import rand\n",
        "\n",
        "from collections import Counter\n",
        "\n",
        "from sklearn import metrics  \n",
        "from sklearn.metrics import classification_report\n",
        "from sklearn.model_selection import train_test_split\n",
        "from sklearn.metrics import accuracy_score\n",
        "from sklearn.metrics import precision_score\n",
        "from sklearn.metrics import recall_score\n",
        "from sklearn.metrics import f1_score\n",
        "from sklearn.metrics import classification_report\n",
        "from sklearn.metrics import confusion_matrix\n",
        "\n",
        "from sklearn.preprocessing import StandardScaler\n",
        "from sklearn.linear_model import LogisticRegression\n",
        "from sklearn.tree import DecisionTreeClassifier\n",
        "from sklearn.ensemble import RandomForestClassifier"
      ],
      "id": "bae4005e",
      "execution_count": 19,
      "outputs": []
    },
    {
      "cell_type": "markdown",
      "metadata": {
        "id": "20cda4b5"
      },
      "source": [
        "Подключим данные (о развити гипогликемии у группы лиц):"
      ],
      "id": "20cda4b5"
    },
    {
      "cell_type": "code",
      "metadata": {
        "id": "f11dc571"
      },
      "source": [
        "dataframe = pd.read_csv('/content/sample_data/Hypoglycemia.csv', header = None)\n",
        "dataframe.columns = ['Pregnancies','Glucose','BloodPressure','SkinThickness','Insulin','BMI','Pedigree','Age','Outcome']\n"
      ],
      "id": "f11dc571",
      "execution_count": 20,
      "outputs": []
    },
    {
      "cell_type": "markdown",
      "metadata": {
        "id": "26b12301"
      },
      "source": [
        "Выведем их:"
      ],
      "id": "26b12301"
    },
    {
      "cell_type": "code",
      "metadata": {
        "colab": {
          "base_uri": "https://localhost:8080/"
        },
        "id": "d0a63710",
        "outputId": "af1c46d4-492f-407b-a6b8-afd8e051d4f1"
      },
      "source": [
        "print(dataframe.head())\n",
        "print(\"Size of data:\",dataframe.shape)\n",
        "print(\"Structure:\\n\",dataframe.dtypes) "
      ],
      "id": "d0a63710",
      "execution_count": 21,
      "outputs": [
        {
          "output_type": "stream",
          "name": "stdout",
          "text": [
            "   Pregnancies  Glucose  BloodPressure  ...  Pedigree  Age  Outcome\n",
            "0            6      148             72  ...     0.627   50        1\n",
            "1            1       85             66  ...     0.351   31        0\n",
            "2            8      183             64  ...     0.672   32        1\n",
            "3            1       89             66  ...     0.167   21        0\n",
            "4            0      137             40  ...     2.288   33        1\n",
            "\n",
            "[5 rows x 9 columns]\n",
            "Size of data: (768, 9)\n",
            "Structure:\n",
            " Pregnancies        int64\n",
            "Glucose            int64\n",
            "BloodPressure      int64\n",
            "SkinThickness      int64\n",
            "Insulin            int64\n",
            "BMI              float64\n",
            "Pedigree         float64\n",
            "Age                int64\n",
            "Outcome            int64\n",
            "dtype: object\n"
          ]
        }
      ]
    },
    {
      "cell_type": "markdown",
      "metadata": {
        "id": "26da79f3"
      },
      "source": [
        "Переведём в удобный формат:"
      ],
      "id": "26da79f3"
    },
    {
      "cell_type": "code",
      "metadata": {
        "id": "a759752a"
      },
      "source": [
        "x = dataframe.iloc[:, :-1].values\n",
        "y = dataframe.iloc[:, 8].values\n",
        "trainingX, testX, trainingY, testY = train_test_split(x, y, test_size = 0.2,  random_state = 0)\n",
        "transform = StandardScaler()\n",
        "trainingX = transform.fit_transform(trainingX)\n",
        "testX = transform.fit_transform(testX)"
      ],
      "id": "a759752a",
      "execution_count": 22,
      "outputs": []
    },
    {
      "cell_type": "markdown",
      "metadata": {
        "id": "1c8098cb"
      },
      "source": [
        "## Логистическая регрессия"
      ],
      "id": "1c8098cb"
    },
    {
      "cell_type": "code",
      "metadata": {
        "id": "1ed6d5aa"
      },
      "source": [
        "class LogisticRegressionAlgorithm:\n",
        "    def sigmoid(self, x): return 1 / (1 + e**(-x))\n",
        "    \n",
        "    def cost_function(self, x, y, weights):                 \n",
        "        z = dot(x, weights)\n",
        "        predict1 = y * log(self.sigmoid(z))\n",
        "        predict0 = (1 - y) * log(1 - self.sigmoid(z))\n",
        "        return -sum(predict1 + predict0) / len(x)\n",
        "    \n",
        "    def fit(self, x, y, epochs=25, lr=0.05):        \n",
        "        loss = []\n",
        "        weights = rand(x.shape[1])\n",
        "        N = len(x)\n",
        "                 \n",
        "        for _ in range(epochs):        \n",
        "            hatY = self.sigmoid(dot(x, weights))\n",
        "            weights -= lr * dot(x.T,  hatY - y) / N            \n",
        "            loss.append(self.cost_function(x, y, weights)) \n",
        "            \n",
        "        self.weights = weights\n",
        "        self.loss = loss\n",
        "    \n",
        "    def predict(self, x):        \n",
        "        z = dot(x, self.weights)\n",
        "        return [1 if i > 0.5 else 0 for i in self.sigmoid(z)]"
      ],
      "id": "1ed6d5aa",
      "execution_count": 23,
      "outputs": []
    },
    {
      "cell_type": "code",
      "metadata": {
        "colab": {
          "base_uri": "https://localhost:8080/"
        },
        "id": "51be6526",
        "outputId": "8e4970a0-8319-491e-a939-7380a7cf6f75"
      },
      "source": [
        "params = [(0.1, 50), (0.1, 100), (0.1, 1000), (0.1, 10000),\n",
        "              (0.01, 50), (0.01, 100), (0.01, 1000), (0.01, 10000),\n",
        "              (0.001, 50), (0.001, 100), (0.001, 1000), (0.001, 10000),\n",
        "              (0.0001, 50), (0.0001, 100), (0.0001, 1000), (0.0001, 10000),\n",
        "              (0.00001, 50), (0.00001, 100), (0.00001, 1000), (0.00001, 10000)\n",
        "]\n",
        "\n",
        "trainMax = -1\n",
        "testMax = -1\n",
        "learningRateMax = 0\n",
        "epochsMax = 0\n",
        "\n",
        "for i in params:\n",
        "    learningRate, epochs = i\n",
        "    regression = LogisticRegressionAlgorithm()\n",
        "    regression.fit(trainingX, trainingY, epochs, learningRate)\n",
        "    lastTestY = regression.predict(testX)\n",
        "    trainingLastY = regression.predict(trainingX)\n",
        "    accuracyTraining = accuracy_score(trainingY, trainingLastY)\n",
        "    accuracyTest = accuracy_score(testY, lastTestY)\n",
        "    if (trainMax < accuracyTraining and testMax < accuracyTest):\n",
        "      trainMax = accuracyTraining\n",
        "      testMax = accuracyTest\n",
        "      learningRateMax = learningRate\n",
        "      epochsMax = epochs\n",
        "print(\"Learning rate:\", learningRate, \"epochs:\", epochs, \"\\n\", \"Max training accuracy:\", trainMax, \"Max test accuracy:\", testMax)"
      ],
      "id": "51be6526",
      "execution_count": 24,
      "outputs": [
        {
          "output_type": "stream",
          "name": "stdout",
          "text": [
            "Learning rate: 1e-05 epochs: 10000 \n",
            " Max training accuracy: 0.7345276872964169 Max test accuracy: 0.7402597402597403\n"
          ]
        }
      ]
    },
    {
      "cell_type": "code",
      "metadata": {
        "id": "b9019a34"
      },
      "source": [
        "regression = LogisticRegressionAlgorithm()\n",
        "regression.fit(trainingX, trainingY, epochs = 10000, lr = 0.00001)\n",
        "lastY = regression.predict(testX)"
      ],
      "id": "b9019a34",
      "execution_count": 25,
      "outputs": []
    },
    {
      "cell_type": "markdown",
      "metadata": {
        "id": "0189848b"
      },
      "source": [
        "Рассмотрим метрики классификатора и матрицу ошибок:"
      ],
      "id": "0189848b"
    },
    {
      "cell_type": "code",
      "metadata": {
        "colab": {
          "base_uri": "https://localhost:8080/"
        },
        "id": "1d9c6c3d",
        "outputId": "5322b10f-e2fc-4e89-e3bb-abcd6b0cfad1"
      },
      "source": [
        "print(\"accuracy:\",accuracy_score(testY, lastY))\n",
        "print(\"precision:\",precision_score(testY, lastY))\n",
        "print(\"recall:\",recall_score(testY, lastY))\n",
        "print(\"f1_score\", f1_score(testY, lastY))\n",
        "print(\"confusion matrix:\\n\", confusion_matrix(testY, lastY))"
      ],
      "id": "1d9c6c3d",
      "execution_count": 26,
      "outputs": [
        {
          "output_type": "stream",
          "name": "stdout",
          "text": [
            "accuracy: 0.6428571428571429\n",
            "precision: 0.43548387096774194\n",
            "recall: 0.574468085106383\n",
            "f1_score 0.4954128440366973\n",
            "confusion matrix:\n",
            " [[72 35]\n",
            " [20 27]]\n"
          ]
        }
      ]
    },
    {
      "cell_type": "markdown",
      "metadata": {
        "id": "489a48fd"
      },
      "source": [
        "## Дерево решений"
      ],
      "id": "489a48fd"
    },
    {
      "cell_type": "code",
      "metadata": {
        "id": "7b55493a"
      },
      "source": [
        "class Node:\n",
        "    def __init__(self, feature = None, threshold = None, data_left = None, data_right = None, gain = None, value = None):\n",
        "        self.feature = feature\n",
        "        self.threshold = threshold\n",
        "        self.data_left = data_left\n",
        "        self.data_right = data_right\n",
        "        self.gain = gain\n",
        "        self.value = value\n",
        "\n",
        "class DecisionTreeAlgorithm:\n",
        "    def __init__(self, min_samples_split  = 2, max_depth = 5):\n",
        "        self.min_samples_split = min_samples_split\n",
        "        self.max_depth = max_depth\n",
        "        self.root = None\n",
        "        \n",
        "    @staticmethod\n",
        "    def _entropy(s):\n",
        "        counts = np.bincount(np.array(s, dtype = np.int64))\n",
        "        percentages = counts / len(s)\n",
        "        entropy = 0\n",
        "        for pct in percentages:\n",
        "            if pct > 0:\n",
        "                entropy += pct * np.log2(pct)\n",
        "        return -entropy\n",
        "    \n",
        "    def _information_gain(self, parent, left_child, right_child):\n",
        "        num_left = len(left_child) / len(parent)\n",
        "        num_right = len(right_child) / len(parent)\n",
        "        return self._entropy(parent) - (num_left * self._entropy(left_child) + num_right * self._entropy(right_child))\n",
        "  \n",
        "    def _best_split(self, X, y):\n",
        "        best_split = {}\n",
        "        best_info_gain = -1\n",
        "        n_rows, n_cols = X.shape\n",
        " \n",
        "        for f_idx in range(n_cols):\n",
        "            X_curr = X[:, f_idx]\n",
        "\n",
        "            for threshold in np.unique(X_curr):\n",
        "\n",
        "                df = np.concatenate((X, y.reshape(1, -1).T), axis = 1)\n",
        "                df_left = np.array([row for row in df if row[f_idx] <= threshold])\n",
        "                df_right = np.array([row for row in df if row[f_idx] > threshold])\n",
        "\n",
        "                if len(df_left) > 0 and len(df_right) > 0:\n",
        "                    y = df[:, -1]\n",
        "                    y_left = df_left[:, -1]\n",
        "                    y_right = df_right[:, -1]\n",
        "                    gain = self._information_gain(y, y_left, y_right)\n",
        "                    if gain > best_info_gain:\n",
        "                        best_split = {\n",
        "                            'feature_index': f_idx,\n",
        "                            'threshold': threshold,\n",
        "                            'df_left': df_left,\n",
        "                            'df_right': df_right,\n",
        "                            'gain': gain\n",
        "                        }\n",
        "                        best_info_gain = gain\n",
        "        return best_split\n",
        "    \n",
        "    def _build(self, X, y, depth = 0):\n",
        "        n_rows, n_cols = X.shape\n",
        "        \n",
        "        if n_rows >= self.min_samples_split and depth <= self.max_depth:\n",
        "            best = self._best_split(X, y)\n",
        "            if best['gain'] > 0:\n",
        "                left = self._build(\n",
        "                    X = best['df_left'][:, :-1], \n",
        "                    y = best['df_left'][:, -1], \n",
        "                    depth = depth + 1\n",
        "                )\n",
        "                right = self._build(\n",
        "                    X = best['df_right'][:, :-1], \n",
        "                    y = best['df_right'][:, -1], \n",
        "                    depth = depth + 1\n",
        "                )\n",
        "                return Node(\n",
        "                    feature = best['feature_index'], \n",
        "                    threshold = best['threshold'], \n",
        "                    data_left = left, \n",
        "                    data_right = right, \n",
        "                    gain = best['gain']\n",
        "                )\n",
        "        return Node(\n",
        "            value = Counter(y).most_common(1)[0][0]\n",
        "        )\n",
        "    \n",
        "    def fit(self, X, y):\n",
        "        self.root = self._build(X, y)\n",
        "        \n",
        "    def _predict(self, x, tree):\n",
        "        if tree.value != None:\n",
        "            return tree.value\n",
        "        feature_value = x[tree.feature]\n",
        "\n",
        "        if feature_value <= tree.threshold:\n",
        "            return self._predict(x = x, tree = tree.data_left)\n",
        "        \n",
        "        if feature_value > tree.threshold:\n",
        "            return self._predict(x = x, tree = tree.data_right)\n",
        "        \n",
        "    def predict(self, X):\n",
        "        return [self._predict(x, self.root) for x in X]"
      ],
      "id": "7b55493a",
      "execution_count": 27,
      "outputs": []
    },
    {
      "cell_type": "code",
      "metadata": {
        "colab": {
          "base_uri": "https://localhost:8080/"
        },
        "id": "d1ab1ca6",
        "outputId": "cda52d0a-2fa1-4def-e0a1-9a6fff69531e"
      },
      "source": [
        "params = [(2, 1), (2, 2), (2, 3), (2, 10), (3, 15), \n",
        "              (3, 1), (3, 2), (3, 3), (3, 10), (3, 15), \n",
        "              (4, 1), (4, 2), (4, 3), (4, 10), (4, 15),\n",
        "              (5, 1), (5, 2), (5, 3), (5, 10), (5, 15),\n",
        "              (10, 1), (10, 2), (10, 3), (10, 10), (10, 15)\n",
        "              ]\n",
        "\n",
        "trainMax = -1\n",
        "testMax = -1\n",
        "sampleSplitMax = 0\n",
        "depthMax = 0\n",
        "\n",
        "for i in params:\n",
        "    sampleSplit, depth = i\n",
        "    tree = DecisionTreeAlgorithm(min_samples_split = sampleSplit, max_depth = depth)\n",
        "    tree.fit(trainingX, trainingY)\n",
        "    lastTestY = tree.predict(testX)\n",
        "    trainingLastY = tree.predict(trainingX)\n",
        "    accuracyTraining = accuracy_score(trainingY, trainingLastY)\n",
        "    accuracyTest = accuracy_score(testY, lastTestY)\n",
        "    if (trainMax < accuracyTraining and testMax < accuracyTest):\n",
        "      trainMax = accuracyTraining\n",
        "      testMax = accuracyTest\n",
        "      sampleSplitMax = sampleSplit\n",
        "      depthMax = depth \n",
        "print(\"Minimum sample splits:\", sampleSplitMax, \"Max depth:\", depthMax, \"\\n\", \"Max training accuracy:\", trainMax, \"Max test accuracy:\", testMax)"
      ],
      "id": "d1ab1ca6",
      "execution_count": 28,
      "outputs": [
        {
          "output_type": "stream",
          "name": "stdout",
          "text": [
            "Minimum sample splits: 2 Max depth: 1 \n",
            " Max training accuracy: 0.7638436482084691 Max test accuracy: 0.7597402597402597\n"
          ]
        }
      ]
    },
    {
      "cell_type": "code",
      "metadata": {
        "id": "d465af07"
      },
      "source": [
        "tree = DecisionTreeAlgorithm(min_samples_split = 2, max_depth = 1)\n",
        "tree.fit(trainingX, trainingY)\n",
        "lastY = tree.predict(testX)"
      ],
      "id": "d465af07",
      "execution_count": 29,
      "outputs": []
    },
    {
      "cell_type": "markdown",
      "metadata": {
        "id": "2dd0b79a"
      },
      "source": [
        "Рассмотрим метрики классификатора и матрицу ошибок:"
      ],
      "id": "2dd0b79a"
    },
    {
      "cell_type": "code",
      "metadata": {
        "colab": {
          "base_uri": "https://localhost:8080/"
        },
        "id": "51926685",
        "outputId": "8ac8bd2c-048d-443e-fcf6-d266ed1b419d"
      },
      "source": [
        "print(\"accuracy:\",accuracy_score(testY, lastY))\n",
        "print(\"precision:\",precision_score(testY, lastY))\n",
        "print(\"recall:\",recall_score(testY, lastY))\n",
        "print(\"f1_score\", f1_score(testY, lastY))\n",
        "print(\"confusion matrix:\\n\", confusion_matrix(testY, lastY))"
      ],
      "id": "51926685",
      "execution_count": 30,
      "outputs": [
        {
          "output_type": "stream",
          "name": "stdout",
          "text": [
            "accuracy: 0.7597402597402597\n",
            "precision: 0.625\n",
            "recall: 0.5319148936170213\n",
            "f1_score 0.5747126436781609\n",
            "confusion matrix:\n",
            " [[92 15]\n",
            " [22 25]]\n"
          ]
        }
      ]
    },
    {
      "cell_type": "markdown",
      "metadata": {
        "id": "53d1a2da"
      },
      "source": [
        "## Random Forest"
      ],
      "id": "53d1a2da"
    },
    {
      "cell_type": "code",
      "metadata": {
        "id": "fade2138"
      },
      "source": [
        "class RandomForestAlgorithm:\n",
        "    def __init__(self, num_trees=25, min_samples_split=2, max_depth=5):\n",
        "        self.num_trees = num_trees\n",
        "        self.min_samples_split = min_samples_split\n",
        "        self.max_depth = max_depth\n",
        "        self.decision_trees = []\n",
        "        \n",
        "    @staticmethod\n",
        "    def _sample(X, y):\n",
        "        n_rows, n_cols = X.shape\n",
        "        samples = np.random.choice(a=n_rows, size=n_rows, replace=True)\n",
        "        return X[samples], y[samples]\n",
        "        \n",
        "    def fit(self, X, y):\n",
        "        if len(self.decision_trees) > 0:\n",
        "            self.decision_trees = []\n",
        "        num_built = 0\n",
        "        while num_built < self.num_trees:\n",
        "            try:\n",
        "                clf =DecisionTreeAlgorithm(\n",
        "                    min_samples_split=self.min_samples_split,\n",
        "                    max_depth=self.max_depth\n",
        "                )\n",
        "                _X, _y = self._sample(X, y)\n",
        "                clf.fit(_X, _y)\n",
        "                self.decision_trees.append(clf)\n",
        "                num_built += 1\n",
        "            except Exception as e:\n",
        "                continue\n",
        "    \n",
        "    def predict(self, X):\n",
        "        y = []\n",
        "        for tree in self.decision_trees:\n",
        "            y.append(tree.predict(X))\n",
        "        y = np.swapaxes(a=y, axis1=0, axis2=1)\n",
        "        predictions = []\n",
        "        for preds in y:\n",
        "            counter = Counter(preds)\n",
        "            predictions.append(counter.most_common(1)[0][0])\n",
        "        return predictions"
      ],
      "id": "fade2138",
      "execution_count": 31,
      "outputs": []
    },
    {
      "cell_type": "code",
      "metadata": {
        "colab": {
          "base_uri": "https://localhost:8080/"
        },
        "id": "66cd0487",
        "outputId": "8b634a72-af52-4173-e987-89dbf49ae78d"
      },
      "source": [
        "params = [(2, 2, 1), (5, 2, 1), (10, 2, 1), (20, 2, 1), (25, 2, 1)]\n",
        "\n",
        "trainMax = -1\n",
        "testMax = -1\n",
        "sampleSplitMax = 0\n",
        "depthMax = 0\n",
        "treeCountMax = 0\n",
        "\n",
        "for i in params:\n",
        "    treeCount, sampleSplit, depth = i\n",
        "    forest = RandomForestAlgorithm(num_trees = treeCount, min_samples_split = sampleSplit, max_depth = depth)\n",
        "    forest.fit(trainingX, trainingY)\n",
        "    lastTestY = forest.predict(testX)\n",
        "    trainingLastY = forest.predict(trainingX)\n",
        "    accuracyTraining = accuracy_score(trainingY, trainingLastY)\n",
        "    accuracyTest = accuracy_score(testY, lastTestY)\n",
        "    if (trainMax < accuracyTraining and testMax < accuracyTest):\n",
        "      trainMax = accuracyTraining\n",
        "      testMax = accuracyTest\n",
        "      sampleSplitMax = sampleSplit\n",
        "      depthMax = depth\n",
        "      treeCountMax = treeCount\n",
        "print(\"Tree count:\", treeCountMax, \"Minimum sample splits:\", sampleSplitMax, \"Max depth:\", depthMax, \"\\n\", \"Max training accuracy:\", trainMax, \"Max test accuracy:\", testMax)"
      ],
      "id": "66cd0487",
      "execution_count": 32,
      "outputs": [
        {
          "output_type": "stream",
          "name": "stdout",
          "text": [
            "Tree count: 20 Minimum sample splits: 2 Max depth: 1 \n",
            " Max training accuracy: 0.7654723127035831 Max test accuracy: 0.7792207792207793\n"
          ]
        }
      ]
    },
    {
      "cell_type": "code",
      "metadata": {
        "id": "7a929cd7"
      },
      "source": [
        "forest = RandomForestAlgorithm(num_trees = 10, min_samples_split = 2, max_depth = 1)\n",
        "forest.fit(trainingX, trainingY)\n",
        "lastY = tree.predict(testX)"
      ],
      "id": "7a929cd7",
      "execution_count": 33,
      "outputs": []
    },
    {
      "cell_type": "markdown",
      "metadata": {
        "id": "83d0d61f"
      },
      "source": [
        "Рассмотрим метрики классификатора и матрицу ошибок:"
      ],
      "id": "83d0d61f"
    },
    {
      "cell_type": "code",
      "metadata": {
        "colab": {
          "base_uri": "https://localhost:8080/"
        },
        "id": "46e4548e",
        "outputId": "48eaba20-4ad6-42d1-cfa2-8dd1145980d8"
      },
      "source": [
        "print(\"accuracy:\",accuracy_score(testY, lastY))\n",
        "print(\"precision:\",precision_score(testY, lastY))\n",
        "print(\"recall:\",recall_score(testY, lastY))\n",
        "print(\"f1_score\", f1_score(testY, lastY))\n",
        "print(\"confusion matrix:\\n\", confusion_matrix(testY, lastY))"
      ],
      "id": "46e4548e",
      "execution_count": 34,
      "outputs": [
        {
          "output_type": "stream",
          "name": "stdout",
          "text": [
            "accuracy: 0.7597402597402597\n",
            "precision: 0.625\n",
            "recall: 0.5319148936170213\n",
            "f1_score 0.5747126436781609\n",
            "confusion matrix:\n",
            " [[92 15]\n",
            " [22 25]]\n"
          ]
        }
      ]
    },
    {
      "cell_type": "markdown",
      "metadata": {
        "id": "62289203"
      },
      "source": [
        "## Сравнение с реализацией sklearn\n",
        "\n",
        "### Логистическая регрессия"
      ],
      "id": "62289203"
    },
    {
      "cell_type": "code",
      "metadata": {
        "id": "d6f7a696"
      },
      "source": [
        "regressionSK = LogisticRegression().fit(trainingX, trainingY)\n",
        "lastY = regressionSK.predict(testX)"
      ],
      "id": "d6f7a696",
      "execution_count": 35,
      "outputs": []
    },
    {
      "cell_type": "markdown",
      "metadata": {
        "id": "76b0816c"
      },
      "source": [
        "Метрики классификатора и матрица ошибок:"
      ],
      "id": "76b0816c"
    },
    {
      "cell_type": "code",
      "metadata": {
        "colab": {
          "base_uri": "https://localhost:8080/"
        },
        "id": "02bd5e12",
        "outputId": "e48d58fb-23ab-4a58-abee-51fd2d465b7f"
      },
      "source": [
        "print(\"accuracy:\",accuracy_score(testY, lastY))\n",
        "print(\"precision:\",precision_score(testY, lastY))\n",
        "print(\"recall:\",recall_score(testY, lastY))\n",
        "print(\"f1_score\", f1_score(testY, lastY))\n",
        "print(\"confusion matrix:\\n\", confusion_matrix(testY, lastY))"
      ],
      "id": "02bd5e12",
      "execution_count": 36,
      "outputs": [
        {
          "output_type": "stream",
          "name": "stdout",
          "text": [
            "accuracy: 0.7987012987012987\n",
            "precision: 0.6904761904761905\n",
            "recall: 0.6170212765957447\n",
            "f1_score 0.651685393258427\n",
            "confusion matrix:\n",
            " [[94 13]\n",
            " [18 29]]\n"
          ]
        }
      ]
    },
    {
      "cell_type": "markdown",
      "metadata": {
        "id": "be00c499"
      },
      "source": [
        "Эта модель достигает большей точности, чем моя, так как в ней оптимизирован параметр f1_score."
      ],
      "id": "be00c499"
    },
    {
      "cell_type": "markdown",
      "metadata": {
        "id": "ac552c7a"
      },
      "source": [
        "### Дерево решений"
      ],
      "id": "ac552c7a"
    },
    {
      "cell_type": "code",
      "metadata": {
        "id": "7a31492a"
      },
      "source": [
        "treeSK = DecisionTreeClassifier()\n",
        "treeSK.fit(trainingX, trainingY)\n",
        "lastY = treeSK.predict(testX)"
      ],
      "id": "7a31492a",
      "execution_count": 37,
      "outputs": []
    },
    {
      "cell_type": "markdown",
      "metadata": {
        "id": "0a67799e"
      },
      "source": [
        "Метрики классификатора и матрица ошибок:"
      ],
      "id": "0a67799e"
    },
    {
      "cell_type": "code",
      "metadata": {
        "colab": {
          "base_uri": "https://localhost:8080/"
        },
        "id": "690aef7f",
        "outputId": "b23ae61c-0ccb-4568-9211-c6888d82942c"
      },
      "source": [
        "print(\"accuracy:\",accuracy_score(testY, lastY))\n",
        "print(\"precision:\",precision_score(testY, lastY))\n",
        "print(\"recall:\",recall_score(testY, lastY))\n",
        "print(\"f1_score\", f1_score(testY, lastY))\n",
        "print(\"confusion matrix:\\n\", confusion_matrix(testY, lastY))"
      ],
      "id": "690aef7f",
      "execution_count": 38,
      "outputs": [
        {
          "output_type": "stream",
          "name": "stdout",
          "text": [
            "accuracy: 0.7012987012987013\n",
            "precision: 0.5087719298245614\n",
            "recall: 0.6170212765957447\n",
            "f1_score 0.5576923076923077\n",
            "confusion matrix:\n",
            " [[79 28]\n",
            " [18 29]]\n"
          ]
        }
      ]
    },
    {
      "cell_type": "markdown",
      "metadata": {
        "id": "21630769"
      },
      "source": [
        "Моя модель достигла большей точности, но меньшей полноты."
      ],
      "id": "21630769"
    },
    {
      "cell_type": "markdown",
      "metadata": {
        "id": "dcdeb984"
      },
      "source": [
        "### Random Forest"
      ],
      "id": "dcdeb984"
    },
    {
      "cell_type": "code",
      "metadata": {
        "id": "43fa96bd"
      },
      "source": [
        "forestSK = RandomForestClassifier()\n",
        "forestSK.fit(trainingX, trainingY)\n",
        "lastY = forestSK.predict(testX)"
      ],
      "id": "43fa96bd",
      "execution_count": 39,
      "outputs": []
    },
    {
      "cell_type": "markdown",
      "metadata": {
        "id": "5f52f032"
      },
      "source": [
        "Метрики классификатора и матрица ошибок:"
      ],
      "id": "5f52f032"
    },
    {
      "cell_type": "code",
      "metadata": {
        "colab": {
          "base_uri": "https://localhost:8080/"
        },
        "id": "a6f65070",
        "outputId": "63ce0160-25f7-410a-b86d-1520478b0a5f"
      },
      "source": [
        "print(\"accuracy:\",accuracy_score(testY, lastY))\n",
        "print(\"precision:\",precision_score(testY, lastY))\n",
        "print(\"recall:\",recall_score(testY, lastY))\n",
        "print(\"f1_score\", f1_score(testY, lastY))\n",
        "print(\"confusion matrix:\\n\", confusion_matrix(testY, lastY))"
      ],
      "id": "a6f65070",
      "execution_count": 40,
      "outputs": [
        {
          "output_type": "stream",
          "name": "stdout",
          "text": [
            "accuracy: 0.8051948051948052\n",
            "precision: 0.6666666666666666\n",
            "recall: 0.723404255319149\n",
            "f1_score 0.6938775510204082\n",
            "confusion matrix:\n",
            " [[90 17]\n",
            " [13 34]]\n"
          ]
        }
      ]
    },
    {
      "cell_type": "markdown",
      "metadata": {
        "id": "e530be0f"
      },
      "source": [
        "Здесь модель sklearn оказалась сильно лучше по всем метрикам, кроме вероятностной точности."
      ],
      "id": "e530be0f"
    }
  ]
}